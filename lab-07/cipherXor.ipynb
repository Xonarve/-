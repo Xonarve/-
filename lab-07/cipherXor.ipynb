{
 "cells": [
  {
   "cell_type": "code",
   "execution_count": 5,
   "id": "a717f9c0",
   "metadata": {},
   "outputs": [
    {
     "name": "stdout",
     "output_type": "stream",
     "text": [
      "Введите строку: С Новым Годом, друзья!\n"
     ]
    }
   ],
   "source": [
    "import random\n",
    "import string\n",
    "\n",
    "inpt = input(\"Введите строку: \")"
   ]
  },
  {
   "cell_type": "code",
   "execution_count": 9,
   "id": "dd437bc0",
   "metadata": {},
   "outputs": [],
   "source": [
    "def key_gener(size = 6, chars = string.ascii_letters + string.digits):\n",
    "    return ''.join(random.choice(chars) for _ in range(size))\n",
    "def chan(s):\n",
    "    return \":\".join (\"{:02x}\".format(ord(c)) for c in s)"
   ]
  },
  {
   "cell_type": "code",
   "execution_count": 8,
   "id": "77085a7a",
   "metadata": {},
   "outputs": [
    {
     "name": "stdout",
     "output_type": "stream",
     "text": [
      "Ключ в виде строки: vf9nKwpgzZIZrFSFPiJebm\n"
     ]
    }
   ],
   "source": [
    "key = key_gener(len(inpt))\n",
    "print(f'Ключ в виде строки: {key}')"
   ]
  },
  {
   "cell_type": "code",
   "execution_count": 10,
   "id": "2edea391",
   "metadata": {},
   "outputs": [],
   "source": [
    "def gam(inpt, key):\n",
    "    inpt_ascii = [ord(i) for i in inpt]\n",
    "    key_ascii = [ord(i) for i in key]\n",
    "    enc_str = ''.join(chr(s ^ k) for s, k, in zip(inpt_ascii, key_ascii))\n",
    "    return enc_str"
   ]
  },
  {
   "cell_type": "code",
   "execution_count": 12,
   "id": "f73e6201",
   "metadata": {},
   "outputs": [],
   "source": [
    "def find_truekey(inpt, enc_str):\n",
    "    sm_ascii = [ord(i) for i in inpt]\n",
    "    enc_str_ascii = [ord(i) for i in enc_str]\n",
    "    true_key = ''.join(chr(s ^ k) for s, k in zip(enc_str_ascii, sm_ascii))\n",
    "    return true_key"
   ]
  },
  {
   "cell_type": "code",
   "execution_count": 13,
   "id": "0c6cb08c",
   "metadata": {},
   "outputs": [],
   "source": [
    "def unencrypt(enc_str, key):\n",
    "    enc_str_ascii = [ord(i) for i in enc_str]\n",
    "    key_ascii = [ord(i) for i  in key]\n",
    "    true_str = ''.join(chr(s ^ k) for s, k in zip(enc_str_ascii, key_ascii))\n",
    "    return true_str"
   ]
  },
  {
   "cell_type": "code",
   "execution_count": 14,
   "id": "ef3ca44b",
   "metadata": {},
   "outputs": [],
   "source": [
    "enc_str = gam(inpt, key)"
   ]
  },
  {
   "cell_type": "code",
   "execution_count": 16,
   "id": "fdfa52fc",
   "metadata": {},
   "outputs": [],
   "source": [
    "new_key = key_gener(len(enc_str))\n",
    "unencrypted_new_key = unencrypt(enc_str, new_key)\n",
    "true_key = find_truekey(inpt, enc_str)\n",
    "unencrypted_true_key = unencrypt(enc_str, true_key)"
   ]
  },
  {
   "cell_type": "code",
   "execution_count": 17,
   "id": "46a03af7",
   "metadata": {},
   "outputs": [
    {
     "name": "stdout",
     "output_type": "stream",
     "text": [
      "Закодированная строка: їFФѐѹмьGѩѤѽѤюjsѲАЪѽЩЭL\n",
      "В шестнадцатиричной системе: 457:46:424:450:479:43c:44c:47:469:464:47d:464:44e:6a:73:472:410:42a:47d:429:42d:4c\n"
     ]
    }
   ],
   "source": [
    "print(f'Закодированная строка: {enc_str}')\n",
    "print(f'В шестнадцатиричной системе: {chan(enc_str)}')"
   ]
  },
  {
   "cell_type": "code",
   "execution_count": 19,
   "id": "f7c602ea",
   "metadata": {},
   "outputs": [
    {
     "name": "stdout",
     "output_type": "stream",
     "text": [
      "Подобранный ключ: o5GWu1sgSXBLQsCq9xWzmr\n",
      "Строка, расшифрованная подобранным ключем: иsѣЇЌЍп кмпШП\u00190ЃЩђЪѓр>\n",
      "Настоящий ключ: vf9nKwpgzZIZrFSFPiJebm\n",
      "Декодированная строка: С Новым Годом, друзья!\n"
     ]
    }
   ],
   "source": [
    "print(f'Подобранный ключ: {new_key}')\n",
    "print(f'Строка, расшифрованная подобранным ключем: {unencrypted_new_key}')\n",
    "print(f'Настоящий ключ: {true_key}')\n",
    "print(f'Декодированная строка: {unencrypted_true_key}')\n"
   ]
  },
  {
   "cell_type": "code",
   "execution_count": null,
   "id": "9688887d",
   "metadata": {},
   "outputs": [],
   "source": []
  }
 ],
 "metadata": {
  "kernelspec": {
   "display_name": "Python 3",
   "language": "python",
   "name": "python3"
  },
  "language_info": {
   "codemirror_mode": {
    "name": "ipython",
    "version": 3
   },
   "file_extension": ".py",
   "mimetype": "text/x-python",
   "name": "python",
   "nbconvert_exporter": "python",
   "pygments_lexer": "ipython3",
   "version": "3.8.8"
  }
 },
 "nbformat": 4,
 "nbformat_minor": 5
}
