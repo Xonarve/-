{
 "cells": [
  {
   "cell_type": "code",
   "execution_count": 1,
   "id": "5b5bdcd4",
   "metadata": {},
   "outputs": [],
   "source": [
    "import random\n",
    "import string"
   ]
  },
  {
   "cell_type": "code",
   "execution_count": 14,
   "id": "86fa92fa",
   "metadata": {},
   "outputs": [],
   "source": [
    "def key_gener(size = 6, chars = string.ascii_letters + string.digits):\n",
    "    return ''.join(random.choice(chars) for _ in range(size))\n",
    "def chan(s):\n",
    "    return \":\".join(\"{:02x}\".format(ord(c)) for c in s)\n",
    "def gam(inpt, key):\n",
    "    inpt_ascii = [ord(i) for i in inpt]\n",
    "    key_ascii = [ord(i) for i in key]\n",
    "    enc_str = ''.join(chr(s ^ k) for s, k, in zip(inpt_ascii, key_ascii))\n",
    "    return enc_str"
   ]
  },
  {
   "cell_type": "code",
   "execution_count": 15,
   "id": "2897ba29",
   "metadata": {},
   "outputs": [
    {
     "name": "stdout",
     "output_type": "stream",
     "text": [
      "Введите первое сообщение: Привет!\n",
      "Введите второе сообщение: Штирлиц\n"
     ]
    }
   ],
   "source": [
    "inpt_1 = input(\"Введите первое сообщение: \")\n",
    "inpt_2 = input(\"Введите второе сообщение: \")"
   ]
  },
  {
   "cell_type": "code",
   "execution_count": 16,
   "id": "c5e033ee",
   "metadata": {},
   "outputs": [
    {
     "name": "stdout",
     "output_type": "stream",
     "text": [
      "Ключ: 70:4f:58:5a:61:5a:6e\n"
     ]
    }
   ],
   "source": [
    "key = key_gener(len(inpt_1))\n",
    "ch_key = chan(key)\n",
    "print(f'Ключ: {ch_key}')"
   ]
  },
  {
   "cell_type": "code",
   "execution_count": 19,
   "id": "6956f280",
   "metadata": {},
   "outputs": [
    {
     "name": "stdout",
     "output_type": "stream",
     "text": [
      "Закодированное сообщение 1: 46f:40f:460:468:454:418:4f\n",
      "Закодированное сообщение 2: 458:40d:460:41a:45a:462:428\n"
     ]
    }
   ],
   "source": [
    "encrypted_inpt_1 = gam(inpt_1, key)\n",
    "ch_encrypted_inpt_1 = chan(encrypted_inpt_1)\n",
    "encrypted_inpt_2 = gam(inpt_2, key)\n",
    "ch_encrypted_inpt_2 = chan(encrypted_inpt_2)\n",
    "print(f'Закодированное сообщение 1: {ch_encrypted_inpt_1}')\n",
    "print(f'Закодированное сообщение 2: {ch_encrypted_inpt_2}')"
   ]
  },
  {
   "cell_type": "code",
   "execution_count": 26,
   "id": "187f8e0b",
   "metadata": {},
   "outputs": [
    {
     "name": "stdout",
     "output_type": "stream",
     "text": [
      "Раскодированное сообщение 1: Привет!\n",
      "Раскодированное сообщение 2: Штирлиц\n"
     ]
    }
   ],
   "source": [
    "original_inpt_1 = gam(encrypted_inpt_1, key)\n",
    "print(f'Раскодированное сообщение 1: {original_inpt_1}')\n",
    "original_inpt_2 = gam(encrypted_inpt_2, key)\n",
    "print(f'Раскодированное сообщение 2: {original_inpt_2}')"
   ]
  },
  {
   "cell_type": "code",
   "execution_count": 24,
   "id": "65396222",
   "metadata": {},
   "outputs": [
    {
     "name": "stdout",
     "output_type": "stream",
     "text": [
      "Раскодированное сообщение 2: 7\u0002\u0000r\u000ezѧ\n"
     ]
    }
   ],
   "source": [
    "temp_encrypted_string = gam(encrypted_inpt_1, encrypted_inpt_2)\n",
    "print(f'Раскодированное сообщение 2: {temp_encrypted_string}')"
   ]
  },
  {
   "cell_type": "code",
   "execution_count": 25,
   "id": "67f0d959",
   "metadata": {},
   "outputs": [
    {
     "name": "stdout",
     "output_type": "stream",
     "text": [
      "Раскодированное сообщение 2: Штирлиц\n"
     ]
    }
   ],
   "source": [
    "uncrypted_inpt_2 = gam(temp_encrypted_string, inpt_1,)\n",
    "print(f'Раскодированное сообщение 2: {uncrypted_inpt_2}')"
   ]
  }
 ],
 "metadata": {
  "kernelspec": {
   "display_name": "Python 3",
   "language": "python",
   "name": "python3"
  },
  "language_info": {
   "codemirror_mode": {
    "name": "ipython",
    "version": 3
   },
   "file_extension": ".py",
   "mimetype": "text/x-python",
   "name": "python",
   "nbconvert_exporter": "python",
   "pygments_lexer": "ipython3",
   "version": "3.8.8"
  }
 },
 "nbformat": 4,
 "nbformat_minor": 5
}
